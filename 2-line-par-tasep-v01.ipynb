{
 "cells": [
  {
   "cell_type": "code",
   "execution_count": 1,
   "id": "257b26bb",
   "metadata": {},
   "outputs": [],
   "source": [
    "import random as rn\n",
    "import numpy as np\n",
    "import matplotlib.pyplot as plt"
   ]
  },
  {
   "cell_type": "code",
   "execution_count": 12,
   "id": "8382c3f0",
   "metadata": {},
   "outputs": [],
   "source": [
    "def initial_state_generator(N, initial_filing):\n",
    "    state = np.zeros((2, N), dtype=np.int8)\n",
    "    pos_arr_1 = list(range(N))\n",
    "    pos_arr_2 = list(range(N))\n",
    "    initial_filing_no = int(N * initial_filing)\n",
    "\n",
    "    rn.shuffle(pos_arr_1)\n",
    "    rn.shuffle(pos_arr_2)\n",
    "    # print(pos_arr)\n",
    "\n",
    "    for i in range(initial_filing_no):\n",
    "        j1 = pos_arr_1.pop(0)\n",
    "        state[0][j1] = 1\n",
    "        j2 = pos_arr_2.pop(0)\n",
    "        state[1][j2] = 1\n",
    "\n",
    "    return state"
   ]
  },
  {
   "cell_type": "code",
   "execution_count": null,
   "id": "1d850615",
   "metadata": {},
   "outputs": [
    {
     "name": "stdout",
     "output_type": "stream",
     "text": [
      "[[1 0 0 1 0 1 1 1 1 0]\n",
      " [1 0 1 1 1 0 1 0 1 0]]\n"
     ]
    }
   ],
   "source": [
    "N = 10\n",
    "alpha = 0.8\n",
    "beta = 0.6\n",
    "initial_filing = 0.1\n",
    "mc_step_no = 5 * 10**5\n",
    "therm_step_no = int(mc_step_no * 0.05)\n",
    "\n",
    "state = initial_state_generator(N, initial_filing)\n",
    "\n",
    "print(state)"
   ]
  }
 ],
 "metadata": {
  "kernelspec": {
   "display_name": "Python 3",
   "language": "python",
   "name": "python3"
  },
  "language_info": {
   "codemirror_mode": {
    "name": "ipython",
    "version": 3
   },
   "file_extension": ".py",
   "mimetype": "text/x-python",
   "name": "python",
   "nbconvert_exporter": "python",
   "pygments_lexer": "ipython3",
   "version": "3.13.5"
  }
 },
 "nbformat": 4,
 "nbformat_minor": 5
}
